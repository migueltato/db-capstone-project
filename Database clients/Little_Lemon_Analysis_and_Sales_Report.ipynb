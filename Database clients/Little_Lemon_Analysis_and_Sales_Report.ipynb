{
 "cells": [
  {
   "cell_type": "markdown",
   "metadata": {},
   "source": [
    "# Add query functions"
   ]
  },
  {
   "cell_type": "markdown",
   "metadata": {},
   "source": [
    "## Task 1:Establish connection between Python and MySQL"
   ]
  },
  {
   "cell_type": "code",
   "execution_count": 1,
   "metadata": {},
   "outputs": [
    {
     "name": "stdout",
     "output_type": "stream",
     "text": [
      "Connection between MySQL and Python is established.\n",
      "\n",
      "Cursor is created to communicate with the MySQL using Python.\n",
      "\n"
     ]
    }
   ],
   "source": [
    "# Import the MySQL Connector/Python\n",
    "import mysql.connector as connector\n",
    "\n",
    "# Establish connection between Python and MySQL database via connector API\n",
    "connection=connector.connect(\n",
    "                             user=\"newuser\", \n",
    "                             password=\"TSqltools33\", \n",
    "                             host=\"localhost\",\n",
    "                             database=\"little_lemon\", \n",
    "                            )\n",
    "print(\"Connection between MySQL and Python is established.\\n\")\n",
    "cursor = connection.cursor()\n",
    "print(\"Cursor is created to communicate with the MySQL using Python.\\n\")\n",
    "\n"
   ]
  },
  {
   "cell_type": "markdown",
   "metadata": {},
   "source": [
    "## Task 2: Show tables"
   ]
  },
  {
   "cell_type": "code",
   "execution_count": 2,
   "metadata": {},
   "outputs": [
    {
     "name": "stdout",
     "output_type": "stream",
     "text": [
      "Tables in the database are: \n",
      "[('Bookings',), ('Customers',), ('Employee',), ('MenuItems',), ('Menus',), ('OrderDelivery',), ('Orders',), ('ordersview',)]\n"
     ]
    }
   ],
   "source": [
    "show_tables_query = \"SHOW tables\" \n",
    "cursor.execute(show_tables_query)\n",
    "results = cursor.fetchall()\n",
    "print(\"Tables in the database are: \")\n",
    "print(results)"
   ]
  },
  {
   "cell_type": "markdown",
   "metadata": {},
   "source": [
    "## Task 3: Query with table JOIN"
   ]
  },
  {
   "cell_type": "code",
   "execution_count": 3,
   "metadata": {},
   "outputs": [
    {
     "name": "stdout",
     "output_type": "stream",
     "text": [
      "('FullName', 'ContactNumber', 'Email', 'TotalCost')\n",
      "('Vanessa McCarthy', '13456789', 'vaMcCar@gmail.com', Decimal('250.00'))\n",
      "('Marcos Romero', '13456789', 'marRo@gmail.com', Decimal('200.00'))\n",
      "('Anna Iversen', '13456789', 'anIve@gmail.com', Decimal('105.00'))\n"
     ]
    }
   ],
   "source": [
    "query = \"\"\"\n",
    "SELECT\n",
    "    c.FullName,\n",
    "    c.ContactNumber,\n",
    "    c.Email,\n",
    "    o.TotalCost\n",
    "FROM\n",
    "    Customers AS c\n",
    "INNER JOIN\n",
    "    Orders AS o ON c.CustomerID = o.CustomerID\n",
    "WHERE\n",
    "    o.TotalCost > 60;\n",
    "\"\"\"\n",
    "cursor.execute(query)\n",
    "\n",
    "print(cursor.column_names)\n",
    "for customer in cursor:\n",
    "    print(customer);"
   ]
  },
  {
   "cell_type": "code",
   "execution_count": 4,
   "metadata": {},
   "outputs": [
    {
     "name": "stdout",
     "output_type": "stream",
     "text": [
      "('OrderID', 'Quantity', 'OrderDate', 'TotalCost', 'OrderDeliveryID', 'CustomerID')\n",
      "(1, 5, datetime.date(2022, 10, 10), Decimal('250.00'), 1, 1)\n",
      "(2, 3, datetime.date(2022, 11, 10), Decimal('200.00'), 2, 2)\n",
      "(3, 1, datetime.date(2022, 10, 11), Decimal('47.00'), 3, 2)\n",
      "(4, 2, datetime.date(2023, 10, 13), Decimal('105.00'), 4, 3)\n"
     ]
    }
   ],
   "source": [
    "# Review Orders table to check result\n",
    "cursor.execute(\"select * from Orders\")\n",
    "print(cursor.column_names)\n",
    "for order in cursor:\n",
    "    print(order);"
   ]
  },
  {
   "cell_type": "markdown",
   "metadata": {},
   "source": [
    "# Use Python to call AddBooking, UpdateBooking & CancelBooking procedures"
   ]
  },
  {
   "cell_type": "markdown",
   "metadata": {},
   "source": [
    "## Addbooking procedure using python"
   ]
  },
  {
   "cell_type": "code",
   "execution_count": 4,
   "metadata": {},
   "outputs": [
    {
     "name": "stdout",
     "output_type": "stream",
     "text": [
      "Connection between MySQL and Python is established.\n",
      "\n",
      "Cursor is created to communicate with the MySQL using Python.\n",
      "\n",
      "[('New booking added',)]\n",
      "\n",
      "Connection between MySQL and Python is closed.\n"
     ]
    }
   ],
   "source": [
    "\n",
    "# Import the MySQL Connector/Python\n",
    "import mysql.connector as connector\n",
    "\n",
    "# Establish connection between Python and MySQL database via connector API\n",
    "connection=connector.connect(\n",
    "                             user=\"newuser\", \n",
    "                             password=\"TSqltools33\", \n",
    "                             host=\"localhost\",\n",
    "                             database=\"little_lemon\", \n",
    "                            )\n",
    "print(\"Connection between MySQL and Python is established.\\n\")\n",
    "cursor = connection.cursor()\n",
    "print(\"Cursor is created to communicate with the MySQL using Python.\\n\")\n",
    "\n",
    "\n",
    "# Call the stored procedure\n",
    "booking_args = (99, 99, 99, '2022-12-10')\n",
    "cursor.callproc('AddBooking', booking_args)\n",
    "connection.commit()\n",
    "\n",
    "# Fetch results from the stored procedure\n",
    "for result in cursor.stored_results():\n",
    "    print(result.fetchall())\n",
    "\n",
    "cursor.close()\n",
    "connection.close()\n",
    "print(\"\\nConnection between MySQL and Python is closed.\")"
   ]
  },
  {
   "cell_type": "markdown",
   "metadata": {},
   "source": [
    "## UpdateBooking procedure using python"
   ]
  },
  {
   "cell_type": "code",
   "execution_count": 5,
   "metadata": {},
   "outputs": [
    {
     "name": "stdout",
     "output_type": "stream",
     "text": [
      "Connection between MySQL and Python is established.\n",
      "\n",
      "Cursor is created to communicate with the MySQL using Python.\n",
      "\n",
      "[('Booking 99 updated',)]\n",
      "\n",
      "Connection between MySQL and Python is closed.\n"
     ]
    }
   ],
   "source": [
    "# Import the MySQL Connector/Python\n",
    "import mysql.connector as connector\n",
    "\n",
    "# Establish connection between Python and MySQL database via connector API\n",
    "connection=connector.connect(\n",
    "                             user=\"newuser\", \n",
    "                             password=\"TSqltools33\", \n",
    "                             host=\"localhost\",\n",
    "                             database=\"little_lemon\", \n",
    "                            )\n",
    "print(\"Connection between MySQL and Python is established.\\n\")\n",
    "cursor = connection.cursor()\n",
    "print(\"Cursor is created to communicate with the MySQL using Python.\\n\")\n",
    "\n",
    "\n",
    "# Call the stored procedure\n",
    "booking_args = (99, '2022-1-10')\n",
    "cursor.callproc('UpdateBooking', booking_args)\n",
    "connection.commit()\n",
    "\n",
    "# Fetch results from the stored procedure\n",
    "for result in cursor.stored_results():\n",
    "    print(result.fetchall())\n",
    "\n",
    "cursor.close()\n",
    "connection.close()\n",
    "print(\"\\nConnection between MySQL and Python is closed.\")"
   ]
  },
  {
   "cell_type": "markdown",
   "metadata": {},
   "source": [
    "## CancelBooking procedure using python"
   ]
  },
  {
   "cell_type": "code",
   "execution_count": 6,
   "metadata": {},
   "outputs": [
    {
     "name": "stdout",
     "output_type": "stream",
     "text": [
      "Connection between MySQL and Python is established.\n",
      "\n",
      "Cursor is created to communicate with the MySQL using Python.\n",
      "\n",
      "[('Booking 99 cancelled',)]\n",
      "\n",
      "Connection between MySQL and Python is closed.\n"
     ]
    }
   ],
   "source": [
    "# Import the MySQL Connector/Python\n",
    "import mysql.connector as connector\n",
    "\n",
    "# Establish connection between Python and MySQL database via connector API\n",
    "connection=connector.connect(\n",
    "                             user=\"newuser\", \n",
    "                             password=\"TSqltools33\", \n",
    "                             host=\"localhost\",\n",
    "                             database=\"little_lemon\", \n",
    "                            )\n",
    "print(\"Connection between MySQL and Python is established.\\n\")\n",
    "cursor = connection.cursor()\n",
    "print(\"Cursor is created to communicate with the MySQL using Python.\\n\")\n",
    "\n",
    "\n",
    "# Call the stored procedure\n",
    "booking_args = (99,)\n",
    "cursor.callproc('CancelBooking', booking_args)\n",
    "connection.commit()\n",
    "\n",
    "# Fetch results from the stored procedure\n",
    "for result in cursor.stored_results():\n",
    "    print(result.fetchall())\n",
    "\n",
    "cursor.close()\n",
    "connection.close()\n",
    "print(\"\\nConnection between MySQL and Python is closed.\")"
   ]
  }
 ],
 "metadata": {
  "kernelspec": {
   "display_name": "Python 3",
   "language": "python",
   "name": "python3"
  },
  "language_info": {
   "codemirror_mode": {
    "name": "ipython",
    "version": 3
   },
   "file_extension": ".py",
   "mimetype": "text/x-python",
   "name": "python",
   "nbconvert_exporter": "python",
   "pygments_lexer": "ipython3",
   "version": "3.13.1"
  }
 },
 "nbformat": 4,
 "nbformat_minor": 2
}
